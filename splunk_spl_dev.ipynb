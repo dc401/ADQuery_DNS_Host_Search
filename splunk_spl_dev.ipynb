{
  "nbformat": 4,
  "nbformat_minor": 0,
  "metadata": {
    "colab": {
      "provenance": [],
      "authorship_tag": "ABX9TyOXVNGMliMDz3C0jimG8/pg",
      "include_colab_link": true
    },
    "kernelspec": {
      "name": "python3",
      "display_name": "Python 3"
    },
    "language_info": {
      "name": "python"
    }
  },
  "cells": [
    {
      "cell_type": "markdown",
      "metadata": {
        "id": "view-in-github",
        "colab_type": "text"
      },
      "source": [
        "<a href=\"https://colab.research.google.com/github/dc401/ADQuery_DNS_Host_Search/blob/master/splunk_spl_dev.ipynb\" target=\"_parent\"><img src=\"https://colab.research.google.com/assets/colab-badge.svg\" alt=\"Open In Colab\"/></a>"
      ]
    },
    {
      "cell_type": "code",
      "execution_count": null,
      "metadata": {
        "id": "ASWk1jCApXkF"
      },
      "outputs": [],
      "source": []
    },
    {
      "cell_type": "markdown",
      "source": [
        "# Logging Artifacts"
      ],
      "metadata": {
        "id": "8D3WjDxdqHfW"
      }
    },
    {
      "cell_type": "markdown",
      "source": [
        "Use this section to keep your suggested logs for the use case"
      ],
      "metadata": {
        "id": "mAILNiF6qeCU"
      }
    },
    {
      "cell_type": "markdown",
      "source": [
        "\n",
        "\n",
        "```\n",
        "type=SYSCALL msg=audit(1664132300.181:236): arch=c000003e syscall=59 success=yes exit=0 a0=7fffd11e5500 a1=7fffd11e4b50 a2=7fffd11e4c48 a3=0 items=0 ppid=3086 pid=3167 auid=1000 uid=1000 gid=1000 euid=1000 suid=1000 fsuid=1000 egid=1000 sgid=1000 fsgid=1000 tty=(none) ses=5 comm=\"sshd\" exe=\"/usr/sbin/sshd\" key=(null)\n",
        "type=USER_AUTH msg=audit(1664132300.181:237): user pid=3167 uid=0 auid=1000 ses=5 msg='op=PAM:authentication acct=\"jsmith\" exe=\"/usr/sbin/sshd\" hostname=? addr=? terminal=ssh res=success'\n",
        "type=USER_START msg=audit(1664132300.181:238): user pid=3167 uid=0 auid=1000 ses=5 msg='op=PAM:session_open acct=\"jsmith\" exe=\"/usr/sbin/sshd\" hostname=? addr=? terminal=ssh res=success'\n",
        "type=SYSCALL msg=audit(1664132305.181:239): arch=c000003e syscall=59 success=yes exit=0 a0=55b50fb0f330 a1=7fffd11e4b90 a2=7fffd11e4c88 a3=0 items=0 ppid=3167 pid=3169 auid=1000 uid=1000 gid=1000 euid=1000 suid=1000 fsuid=1000 egid=1000 sgid=1000 fsgid=1000 tty=(none) ses=5 comm=\"bash\" exe=\"/usr/bin/bash\" key=(null)\n",
        "type=CWD msg=audit(1664132305.181:240): cwd=\"/home/jsmith\"\n",
        "type=PATH msg=audit(1664132305.181:241): item=0 name=\"/bin/ls\" inode=131099 dev=08:01 mode=0100755 ouid=0 ogid=0 rdev=00:00 objtype=NORMAL cap_fp=0000000000000000 cap_fi=0000000000000000 cap_fe=0 cap_fver=0\n",
        "type=USER_END msg=audit(1664132420.246:242): user pid=3167 uid=0 auid=1000 ses=5 msg='op=PAM:session_close acct=\"jsmith\" exe=\"/usr/sbin/sshd\" hostname=? addr=? terminal=ssh res=success'\n",
        "```\n",
        "\n"
      ],
      "metadata": {
        "id": "svFdMWyNqmUB"
      }
    },
    {
      "cell_type": "code",
      "source": [
        "#grab log data as string\n",
        "file = open('audit-example-log.txt', 'r')\n",
        "log_contents = file.read()"
      ],
      "metadata": {
        "id": "Z_LxfbzXtR-O"
      },
      "execution_count": 2,
      "outputs": []
    },
    {
      "cell_type": "code",
      "source": [
        "print(log_contents)"
      ],
      "metadata": {
        "colab": {
          "base_uri": "https://localhost:8080/"
        },
        "id": "fKz-x9nOtnFh",
        "outputId": "ede3afd9-0ec5-4414-b0b6-f73608780dc0"
      },
      "execution_count": 3,
      "outputs": [
        {
          "output_type": "stream",
          "name": "stdout",
          "text": [
            "type=SYSCALL msg=audit(1664132300.181:236): arch=c000003e syscall=59 success=yes exit=0 a0=7fffd11e5500 a1=7fffd11e4b50 a2=7fffd11e4c48 a3=0 items=0 ppid=3086 pid=3167 auid=1000 uid=1000 gid=1000 euid=1000 suid=1000 fsuid=1000 egid=1000 sgid=1000 fsgid=1000 tty=(none) ses=5 comm=\"sshd\" exe=\"/usr/sbin/sshd\" key=(null)\n",
            "type=USER_AUTH msg=audit(1664132300.181:237): user pid=3167 uid=0 auid=1000 ses=5 msg='op=PAM:authentication acct=\"jsmith\" exe=\"/usr/sbin/sshd\" hostname=? addr=? terminal=ssh res=success'\n",
            "type=USER_START msg=audit(1664132300.181:238): user pid=3167 uid=0 auid=1000 ses=5 msg='op=PAM:session_open acct=\"jsmith\" exe=\"/usr/sbin/sshd\" hostname=? addr=? terminal=ssh res=success'\n",
            "type=SYSCALL msg=audit(1664132305.181:239): arch=c000003e syscall=59 success=yes exit=0 a0=55b50fb0f330 a1=7fffd11e4b90 a2=7fffd11e4c88 a3=0 items=0 ppid=3167 pid=3169 auid=1000 uid=1000 gid=1000 euid=1000 suid=1000 fsuid=1000 egid=1000 sgid=1000 fsgid=1000 tty=(none) ses=5 comm=\"bash\" exe=\"/usr/bin/bash\" key=(null) \n",
            "type=CWD msg=audit(1664132305.181:240): cwd=\"/home/jsmith\"\n",
            "type=PATH msg=audit(1664132305.181:241): item=0 name=\"/bin/ls\" inode=131099 dev=08:01 mode=0100755 ouid=0 ogid=0 rdev=00:00 objtype=NORMAL cap_fp=0000000000000000 cap_fi=0000000000000000 cap_fe=0 cap_fver=0\n",
            "type=USER_END msg=audit(1664132420.246:242): user pid=3167 uid=0 auid=1000 ses=5 msg='op=PAM:session_close acct=\"jsmith\" exe=\"/usr/sbin/sshd\" hostname=? addr=? terminal=ssh res=success'\n"
          ]
        }
      ]
    },
    {
      "cell_type": "markdown",
      "source": [
        "# Splunk SPL Dev"
      ],
      "metadata": {
        "id": "ptjMJSzCqQE2"
      }
    },
    {
      "cell_type": "markdown",
      "source": [
        "Use this section to craft out your SPL"
      ],
      "metadata": {
        "id": "uhIPpPN6qxUq"
      }
    },
    {
      "cell_type": "markdown",
      "source": [
        "\n",
        "\n",
        "```\n",
        "index=main exe=*bash\n",
        "```\n",
        "\n"
      ],
      "metadata": {
        "id": "tEBqqd-Pq1XB"
      }
    },
    {
      "cell_type": "code",
      "source": [
        "spl_search = 'index=main exe=*bash'"
      ],
      "metadata": {
        "id": "tJ34Zr7Bt26R"
      },
      "execution_count": 4,
      "outputs": []
    },
    {
      "cell_type": "markdown",
      "source": [
        "# Send to CI/CD Pipeline"
      ],
      "metadata": {
        "id": "rxnHPC35qT8K"
      }
    },
    {
      "cell_type": "markdown",
      "source": [
        "# Testing Results"
      ],
      "metadata": {
        "id": "DCJuY6GgqXxC"
      }
    }
  ]
}